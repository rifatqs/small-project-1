{
 "cells": [
  {
   "cell_type": "code",
   "execution_count": 1,
   "id": "69cf408b",
   "metadata": {},
   "outputs": [],
   "source": [
    "from pyspark.sql import SparkSession\n",
    "from pyspark.sql.functions import col"
   ]
  },
  {
   "cell_type": "code",
   "execution_count": 2,
   "id": "771a3cc4",
   "metadata": {},
   "outputs": [
    {
     "name": "stderr",
     "output_type": "stream",
     "text": [
      "22/07/25 15:46:48 WARN Utils: Your hostname, rifatqs-VirtualBox resolves to a loopback address: 127.0.1.1; using 10.0.2.15 instead (on interface enp0s3)\n",
      "22/07/25 15:46:48 WARN Utils: Set SPARK_LOCAL_IP if you need to bind to another address\n",
      "WARNING: An illegal reflective access operation has occurred\n",
      "WARNING: Illegal reflective access by org.apache.spark.unsafe.Platform (file:/home/rifatqs/miniconda3/envs/analytics/lib/python3.7/site-packages/pyspark/jars/spark-unsafe_2.12-3.2.0.jar) to constructor java.nio.DirectByteBuffer(long,int)\n",
      "WARNING: Please consider reporting this to the maintainers of org.apache.spark.unsafe.Platform\n",
      "WARNING: Use --illegal-access=warn to enable warnings of further illegal reflective access operations\n",
      "WARNING: All illegal access operations will be denied in a future release\n",
      "22/07/25 15:46:49 WARN NativeCodeLoader: Unable to load native-hadoop library for your platform... using builtin-java classes where applicable\n",
      "Using Spark's default log4j profile: org/apache/spark/log4j-defaults.properties\n",
      "Setting default log level to \"WARN\".\n",
      "To adjust logging level use sc.setLogLevel(newLevel). For SparkR, use setLogLevel(newLevel).\n",
      "22/07/25 15:46:50 WARN Utils: Service 'SparkUI' could not bind on port 4040. Attempting port 4041.\n"
     ]
    }
   ],
   "source": [
    "scSpark = SparkSession \\\n",
    "        .builder \\\n",
    "        .appName(\"memfilter date\") \\\n",
    "        .config(\"spark.jars\", \"postgresql-42.3.2.jar\") \\\n",
    "        .getOrCreate()"
   ]
  },
  {
   "cell_type": "code",
   "execution_count": 3,
   "id": "e62187db",
   "metadata": {},
   "outputs": [],
   "source": [
    "df_invoice = scSpark.read \\\n",
    "            .format(\"jdbc\") \\\n",
    "            .option('url', 'jdbc:postgresql://localhost/small_project1') \\\n",
    "            .option('dbtable', 'invoice') \\\n",
    "            .option('user', 'postgres') \\\n",
    "            .option('password', 'postgres') \\\n",
    "            .option('driver', 'org.postgresql.Driver') \\\n",
    "            .load()"
   ]
  },
  {
   "cell_type": "code",
   "execution_count": 4,
   "id": "c8674792",
   "metadata": {},
   "outputs": [
    {
     "name": "stderr",
     "output_type": "stream",
     "text": [
      "\r",
      "[Stage 0:>                                                          (0 + 1) / 1]\r"
     ]
    },
    {
     "name": "stdout",
     "output_type": "stream",
     "text": [
      "+----+--------------+------+------+-----+--------------------+-------------------+\n",
      "|item|     invoiceid|userid|amount|notes|       paymentstatus|               date|\n",
      "+----+--------------+------+------+-----+--------------------+-------------------+\n",
      "|   1|INVCLSYLFY0001|     2| 65000| NULL|Successfully capt...|2017-03-30 09:21:53|\n",
      "|   1|INVCLSYLFY0002|     2| 65000| NULL|Waiting customer ...|2017-03-30 09:44:38|\n",
      "|   2|INVCLSYLFY0003|     5| 65000| NULL|Waiting customer ...|2017-03-30 10:01:35|\n",
      "|   1|INVCLSYLFY0004|     2| 65000| NULL|Successfully capt...|2017-03-30 10:39:39|\n",
      "|   1|INVCLSYLFY0005|     8| 65000| NULL|Successfully capt...|2017-03-30 10:50:19|\n",
      "+----+--------------+------+------+-----+--------------------+-------------------+\n",
      "only showing top 5 rows\n",
      "\n"
     ]
    },
    {
     "name": "stderr",
     "output_type": "stream",
     "text": [
      "\r",
      "                                                                                \r"
     ]
    }
   ],
   "source": [
    "df_invoice.show(5)"
   ]
  },
  {
   "cell_type": "code",
   "execution_count": 5,
   "id": "4eade960",
   "metadata": {},
   "outputs": [
    {
     "name": "stdout",
     "output_type": "stream",
     "text": [
      "+--------------------+-----+\n",
      "|       paymentstatus|count|\n",
      "+--------------------+-----+\n",
      "|Payment using ech...|  230|\n",
      "|Waiting customer ...|    1|\n",
      "|Waiting customer ...|  287|\n",
      "|Transaction succe...| 1799|\n",
      "|Successfully capt...|  104|\n",
      "+--------------------+-----+\n",
      "\n"
     ]
    }
   ],
   "source": [
    "df_invoice.groupBy('paymentstatus').count().show()"
   ]
  },
  {
   "cell_type": "code",
   "execution_count": 10,
   "id": "709e3dc2",
   "metadata": {},
   "outputs": [],
   "source": [
    "df_sudahbayar1 = df_invoice.filter(df_invoice.paymentstatus == 'Successfully captured using credit_card')"
   ]
  },
  {
   "cell_type": "code",
   "execution_count": 11,
   "id": "20a0a733",
   "metadata": {},
   "outputs": [
    {
     "data": {
      "text/plain": [
       "104"
      ]
     },
     "execution_count": 11,
     "metadata": {},
     "output_type": "execute_result"
    }
   ],
   "source": [
    "df_sudahbayar1.count()"
   ]
  },
  {
   "cell_type": "code",
   "execution_count": 12,
   "id": "64849118",
   "metadata": {},
   "outputs": [],
   "source": [
    "df_sudahbayar2 = df_invoice.filter(df_invoice.paymentstatus == 'Transaction successfully transfered using credit_card')"
   ]
  },
  {
   "cell_type": "code",
   "execution_count": 13,
   "id": "d35a19be",
   "metadata": {},
   "outputs": [
    {
     "data": {
      "text/plain": [
       "1799"
      ]
     },
     "execution_count": 13,
     "metadata": {},
     "output_type": "execute_result"
    }
   ],
   "source": [
    "df_sudahbayar2.count()"
   ]
  },
  {
   "cell_type": "code",
   "execution_count": 14,
   "id": "947a9126",
   "metadata": {},
   "outputs": [],
   "source": [
    "df_sudahbayar_final = df_sudahbayar1.union(df_sudahbayar2)"
   ]
  },
  {
   "cell_type": "code",
   "execution_count": 15,
   "id": "83d6bad7",
   "metadata": {},
   "outputs": [
    {
     "data": {
      "text/plain": [
       "1903"
      ]
     },
     "execution_count": 15,
     "metadata": {},
     "output_type": "execute_result"
    }
   ],
   "source": [
    "df_sudahbayar_final.count()"
   ]
  },
  {
   "cell_type": "code",
   "execution_count": 16,
   "id": "4c12f438",
   "metadata": {},
   "outputs": [
    {
     "name": "stdout",
     "output_type": "stream",
     "text": [
      "+----+--------------+------+------+-----+--------------------+-------------------+\n",
      "|item|     invoiceid|userid|amount|notes|       paymentstatus|               date|\n",
      "+----+--------------+------+------+-----+--------------------+-------------------+\n",
      "|   1|INVCLSYLFY0001|     2| 65000| NULL|Successfully capt...|2017-03-30 09:21:53|\n",
      "|   1|INVCLSYLFY0004|     2| 65000| NULL|Successfully capt...|2017-03-30 10:39:39|\n",
      "|   1|INVCLSYLFY0005|     8| 65000| NULL|Successfully capt...|2017-03-30 10:50:19|\n",
      "|   1|INVCLSYLFY0007|    10| 65000| NULL|Successfully capt...|2017-03-30 11:19:16|\n",
      "|   1|INVCLSYLFY0008|    10| 65000| NULL|Successfully capt...|2017-03-30 11:20:34|\n",
      "|   1|INVCLSYLFY0009|    10| 65000| NULL|Successfully capt...|2017-03-30 11:22:40|\n",
      "|   1|INVCLSYLFY0010|    22| 65000| NULL|Successfully capt...|2017-04-07 23:19:35|\n",
      "|   1|INVCLSYLFY0012|    24| 65000| NULL|Successfully capt...|2017-04-08 01:05:10|\n",
      "|   1|INVCLSYLFY0013|    25| 65000| NULL|Successfully capt...|2017-04-08 01:08:04|\n",
      "|   1|INVCLSYLFY0014|    25| 65000| NULL|Successfully capt...|2017-04-08 01:09:30|\n",
      "+----+--------------+------+------+-----+--------------------+-------------------+\n",
      "only showing top 10 rows\n",
      "\n"
     ]
    }
   ],
   "source": [
    "df_sudahbayar_final.show(10)"
   ]
  },
  {
   "cell_type": "code",
   "execution_count": 17,
   "id": "d90412ad",
   "metadata": {},
   "outputs": [],
   "source": [
    "df_sudahbayar_awal2017 = df_sudahbayar_final.filter (( df_sudahbayar_final.date >= '2017-01-01') & (df_sudahbayar_final.date < '2017-4-01'))"
   ]
  },
  {
   "cell_type": "code",
   "execution_count": 19,
   "id": "695be80c",
   "metadata": {},
   "outputs": [],
   "source": [
    "df_sudahbayar_awal2018 = df_sudahbayar_final.filter (( df_sudahbayar_final.date >= '2018-01-01') & (df_sudahbayar_final.date < '2018-04-01'))"
   ]
  },
  {
   "cell_type": "code",
   "execution_count": 32,
   "id": "64759c40",
   "metadata": {},
   "outputs": [],
   "source": [
    "df_sudahbayar_awal2019 = df_sudahbayar_final.filter (( df_sudahbayar_final.date >= '2019-01-01') & (df_sudahbayar_final.date < '2019-04-01'))"
   ]
  },
  {
   "cell_type": "code",
   "execution_count": 34,
   "id": "9f883356",
   "metadata": {},
   "outputs": [],
   "source": [
    "df_sudahbayar_awal2020 = df_sudahbayar_final.filter (( df_sudahbayar_final.date >= '2020-01-01') & (df_sudahbayar_final.date < '2020-04-01'))"
   ]
  },
  {
   "cell_type": "code",
   "execution_count": 36,
   "id": "e20b4c51",
   "metadata": {},
   "outputs": [],
   "source": [
    "df_sudahbayar_awaltahun1 = df_sudahbayar_awal2017.union(df_sudahbayar_awal2018)"
   ]
  },
  {
   "cell_type": "code",
   "execution_count": 37,
   "id": "2e3961ce",
   "metadata": {},
   "outputs": [],
   "source": [
    "df_sudahbayar_awaltahun2 = df_sudahbayar_awal2019.union(df_sudahbayar_awal2020)"
   ]
  },
  {
   "cell_type": "code",
   "execution_count": 38,
   "id": "9928f00d",
   "metadata": {},
   "outputs": [],
   "source": [
    "df_sudahbayar_awaltahun_final = df_sudahbayar_awaltahun1.union(df_sudahbayar_awaltahun2)"
   ]
  },
  {
   "cell_type": "code",
   "execution_count": 39,
   "id": "c53753c5",
   "metadata": {},
   "outputs": [
    {
     "data": {
      "text/plain": [
       "175"
      ]
     },
     "execution_count": 39,
     "metadata": {},
     "output_type": "execute_result"
    }
   ],
   "source": [
    "df_sudahbayar_awaltahun_final.count()"
   ]
  },
  {
   "cell_type": "code",
   "execution_count": 42,
   "id": "77e2c016",
   "metadata": {},
   "outputs": [
    {
     "name": "stdout",
     "output_type": "stream",
     "text": [
      "+----+--------------+------+------+-----+--------------------+-------------------+\n",
      "|item|     invoiceid|userid|amount|notes|       paymentstatus|               date|\n",
      "+----+--------------+------+------+-----+--------------------+-------------------+\n",
      "|   1|INVCLSYLFY0001|     2| 65000| NULL|Successfully capt...|2017-03-30 09:21:53|\n",
      "|   1|INVCLSYLFY0004|     2| 65000| NULL|Successfully capt...|2017-03-30 10:39:39|\n",
      "|   1|INVCLSYLFY0005|     8| 65000| NULL|Successfully capt...|2017-03-30 10:50:19|\n",
      "|   1|INVCLSYLFY0007|    10| 65000| NULL|Successfully capt...|2017-03-30 11:19:16|\n",
      "|   1|INVCLSYLFY0008|    10| 65000| NULL|Successfully capt...|2017-03-30 11:20:34|\n",
      "|   1|INVCLSYLFY0009|    10| 65000| NULL|Successfully capt...|2017-03-30 11:22:40|\n",
      "|   1|INVCLSYLFY1156|   146| 65000| NULL|Transaction succe...|2018-01-03 10:02:33|\n",
      "|   1|INVCLSYLFY1157|  2640| 65000| NULL|Transaction succe...|2018-01-09 09:54:03|\n",
      "|   1|INVCLSYLFY1158|   146| 65000| NULL|Transaction succe...|2018-02-05 21:16:09|\n",
      "|   1|INVCLSYLFY1160|   146| 65000| NULL|Transaction succe...|2018-02-13 15:04:02|\n",
      "|   1|INVCLSYLFY1161|   146| 65000| NULL|Transaction succe...|2018-02-13 15:04:07|\n",
      "|   1|INVCLSYLFY1162|   146| 65000| NULL|Transaction succe...|2018-02-13 15:04:53|\n",
      "|   1|INVCLSYLFY1163|   146| 65000| NULL|Transaction succe...|2018-02-13 18:55:57|\n",
      "|   1|INVCLSYLFY1165|  2663| 65000| NULL|Transaction succe...|2018-03-06 11:27:24|\n",
      "|   1|INVCLSYLFY1166|  2664| 65000| NULL|Transaction succe...|2018-03-06 11:29:13|\n",
      "|   1|INVCLSYLFY1167|  2666| 65000| NULL|Transaction succe...|2018-03-06 11:46:22|\n",
      "|   1|INVCLSYLFY2079|  4634| 65000| NULL|Successfully capt...|2019-02-20 22:59:57|\n",
      "|   5|INVCLSYLFY2085|  4648| 65000| NULL|Successfully capt...|2019-02-26 12:29:33|\n",
      "|   1|INVCLSYLFY2094|  4657| 65000| NULL|Successfully capt...|2019-03-01 11:43:16|\n",
      "|   5|INVCLSYLFY2100|  4663| 65000| NULL|Successfully capt...|2019-03-05 19:42:57|\n",
      "+----+--------------+------+------+-----+--------------------+-------------------+\n",
      "only showing top 20 rows\n",
      "\n"
     ]
    }
   ],
   "source": [
    "df_sudahbayar_awaltahun_final.show()"
   ]
  },
  {
   "cell_type": "code",
   "execution_count": 43,
   "id": "86c993f4",
   "metadata": {},
   "outputs": [
    {
     "name": "stderr",
     "output_type": "stream",
     "text": [
      "                                                                                \r"
     ]
    }
   ],
   "source": [
    "df_sudahbayar_awaltahun_final.write \\\n",
    "    .format(\"jdbc\") \\\n",
    "    .option('url', 'jdbc:postgresql://localhost/small_project1') \\\n",
    "    .option('dbtable', 'awal_tahun') \\\n",
    "    .option('user', 'postgres') \\\n",
    "    .option('password', 'postgres') \\\n",
    "    .option('driver','org.postgresql.Driver') \\\n",
    "    .mode('append') \\\n",
    "    .save()"
   ]
  },
  {
   "cell_type": "code",
   "execution_count": 49,
   "id": "beae6573",
   "metadata": {},
   "outputs": [],
   "source": [
    "df_sudahbayar_akhir2017 = df_sudahbayar_final.filter (( df_sudahbayar_final.date >= '2017-10-01') & (df_sudahbayar_final.date <= '2017-12-31'))"
   ]
  },
  {
   "cell_type": "code",
   "execution_count": 50,
   "id": "35112763",
   "metadata": {},
   "outputs": [],
   "source": [
    "df_sudahbayar_akhir2018 = df_sudahbayar_final.filter (( df_sudahbayar_final.date >= '2018-10-01') & (df_sudahbayar_final.date <= '2018-12-31'))"
   ]
  },
  {
   "cell_type": "code",
   "execution_count": 51,
   "id": "a13242a4",
   "metadata": {},
   "outputs": [],
   "source": [
    "df_sudahbayar_akhir2019 = df_sudahbayar_final.filter (( df_sudahbayar_final.date >= '2019-10-01') & (df_sudahbayar_final.date <= '2019-12-31'))"
   ]
  },
  {
   "cell_type": "code",
   "execution_count": 52,
   "id": "9ce8e3b5",
   "metadata": {},
   "outputs": [],
   "source": [
    "df_sudahbayar_akhir2020 = df_sudahbayar_final.filter (( df_sudahbayar_final.date >= '2020-10-01') & (df_sudahbayar_final.date <= '2020-12-31'))"
   ]
  },
  {
   "cell_type": "code",
   "execution_count": 53,
   "id": "e9f5cb9b",
   "metadata": {},
   "outputs": [],
   "source": [
    "df_sudahbayar_akhirtahun1 = df_sudahbayar_akhir2017.union(df_sudahbayar_akhir2018)"
   ]
  },
  {
   "cell_type": "code",
   "execution_count": 54,
   "id": "c6df1f35",
   "metadata": {},
   "outputs": [],
   "source": [
    "df_sudahbayar_akhirtahun2 = df_sudahbayar_akhir2019.union(df_sudahbayar_akhir2020)"
   ]
  },
  {
   "cell_type": "code",
   "execution_count": 55,
   "id": "3d022674",
   "metadata": {},
   "outputs": [],
   "source": [
    "df_sudahbayar_akhirtahun_final = df_sudahbayar_akhirtahun1.union(df_sudahbayar_akhirtahun2)"
   ]
  },
  {
   "cell_type": "code",
   "execution_count": 56,
   "id": "7c54eea3",
   "metadata": {},
   "outputs": [
    {
     "data": {
      "text/plain": [
       "761"
      ]
     },
     "execution_count": 56,
     "metadata": {},
     "output_type": "execute_result"
    }
   ],
   "source": [
    "df_sudahbayar_akhirtahun_final.count()"
   ]
  },
  {
   "cell_type": "code",
   "execution_count": 57,
   "id": "74009642",
   "metadata": {},
   "outputs": [
    {
     "name": "stdout",
     "output_type": "stream",
     "text": [
      "+----+--------------+------+------+-----+--------------------+-------------------+\n",
      "|item|     invoiceid|userid|amount|notes|       paymentstatus|               date|\n",
      "+----+--------------+------+------+-----+--------------------+-------------------+\n",
      "|   1|INVCLSYLFY0442|   218| 65000| NULL|Successfully capt...|2017-10-02 19:38:40|\n",
      "|   1|INVCLSYLFY0456|   905| 65000| NULL|Successfully capt...|2017-10-03 17:14:53|\n",
      "|   1|INVCLSYLFY0478|   927| 65000| NULL|Successfully capt...|2017-10-03 17:50:13|\n",
      "|   1|INVCLSYLFY0479|   928| 65000| NULL|Successfully capt...|2017-10-03 17:51:12|\n",
      "|   1|INVCLSYLFY0480|   929| 65000| NULL|Successfully capt...|2017-10-03 17:51:53|\n",
      "|   1|INVCLSYLFY0481|   930| 65000| NULL|Successfully capt...|2017-10-03 17:57:30|\n",
      "|   1|INVCLSYLFY0508|   957| 65000| NULL|Successfully capt...|2017-10-03 18:30:59|\n",
      "|   1|INVCLSYLFY0509|   958| 65000| NULL|Successfully capt...|2017-10-03 18:32:25|\n",
      "|   1|INVCLSYLFY0510|   959| 65000| NULL|Successfully capt...|2017-10-03 18:34:35|\n",
      "|   1|INVCLSYLFY0523|   972| 65000| NULL|Successfully capt...|2017-10-03 18:59:09|\n",
      "|   1|INVCLSYLFY0524|   973| 65000| NULL|Successfully capt...|2017-10-03 19:01:10|\n",
      "|   1|INVCLSYLFY0525|   974| 65000| NULL|Successfully capt...|2017-10-03 19:02:06|\n",
      "|   1|INVCLSYLFY0526|   975| 65000| NULL|Successfully capt...|2017-10-03 19:03:11|\n",
      "|   1|INVCLSYLFY0527|   976| 65000| NULL|Successfully capt...|2017-10-03 19:04:05|\n",
      "|   1|INVCLSYLFY0528|   977| 65000| NULL|Successfully capt...|2017-10-03 19:05:04|\n",
      "|   1|INVCLSYLFY0529|   978| 65000| NULL|Successfully capt...|2017-10-03 19:06:04|\n",
      "|   1|INVCLSYLFY0530|   979| 65000| NULL|Successfully capt...|2017-10-03 19:07:01|\n",
      "|   1|INVCLSYLFY0634|  1096| 65000| NULL|Successfully capt...|2017-10-04 23:30:52|\n",
      "|   1|INVCLSYLFY0659|  1120| 65000| NULL|Successfully capt...|2017-10-05 00:04:32|\n",
      "|   1|INVCLSYLFY0664|  1125| 65000| NULL|Successfully capt...|2017-10-05 00:09:19|\n",
      "+----+--------------+------+------+-----+--------------------+-------------------+\n",
      "only showing top 20 rows\n",
      "\n"
     ]
    }
   ],
   "source": [
    "df_sudahbayar_akhirtahun_final.show()"
   ]
  },
  {
   "cell_type": "code",
   "execution_count": 58,
   "id": "2438ac30",
   "metadata": {},
   "outputs": [
    {
     "name": "stderr",
     "output_type": "stream",
     "text": [
      "                                                                                \r"
     ]
    }
   ],
   "source": [
    "df_sudahbayar_akhirtahun_final.write \\\n",
    "    .format(\"jdbc\") \\\n",
    "    .option('url', 'jdbc:postgresql://localhost/small_project1') \\\n",
    "    .option('dbtable', 'akhir_tahun') \\\n",
    "    .option('user', 'postgres') \\\n",
    "    .option('password', 'postgres') \\\n",
    "    .option('driver','org.postgresql.Driver') \\\n",
    "    .mode('append') \\\n",
    "    .save()"
   ]
  }
 ],
 "metadata": {
  "kernelspec": {
   "display_name": "Python 3 (ipykernel)",
   "language": "python",
   "name": "python3"
  },
  "language_info": {
   "codemirror_mode": {
    "name": "ipython",
    "version": 3
   },
   "file_extension": ".py",
   "mimetype": "text/x-python",
   "name": "python",
   "nbconvert_exporter": "python",
   "pygments_lexer": "ipython3",
   "version": "3.7.11"
  }
 },
 "nbformat": 4,
 "nbformat_minor": 5
}
